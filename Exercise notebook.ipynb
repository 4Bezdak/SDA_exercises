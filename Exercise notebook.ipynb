{
 "cells": [
  {
   "cell_type": "markdown",
   "id": "30bed928",
   "metadata": {},
   "source": [
    "## Easy"
   ]
  },
  {
   "cell_type": "markdown",
   "id": "218c72f1",
   "metadata": {},
   "source": [
    "#### Vyčistit telefonní číslo"
   ]
  },
  {
   "cell_type": "raw",
   "id": "388ad027",
   "metadata": {},
   "source": [
    "# napište funkci která ze stringu telefonního čísla vrátí pouze číslice\n",
    "# funkce bude univerzální na různé inputy\n",
    "# output v int\n",
    "\n",
    "např:\n",
    "    \"\"+1 (613)-995-0253\" --> 16139950253\n",
    "    \"613-995-0253\" --> 6139950253\n",
    "    \"1 613 995 0253\" --> 16139950253\n",
    "    \n"
   ]
  },
  {
   "cell_type": "code",
   "execution_count": null,
   "id": "820e438c",
   "metadata": {},
   "outputs": [],
   "source": [
    "def normalize_numbers(number_str):\n",
    "    pass"
   ]
  },
  {
   "cell_type": "markdown",
   "id": "2050f187",
   "metadata": {},
   "source": [
    "#### Převrátit číslo"
   ]
  },
  {
   "cell_type": "raw",
   "id": "6da90099",
   "metadata": {},
   "source": [
    "# Převrátit zadané číslo:\n",
    "Např 123 --> 321 \n",
    "# funkce musí převracit i negativní čísla\n",
    "-123 --> -321"
   ]
  },
  {
   "cell_type": "code",
   "execution_count": null,
   "id": "60efcb53",
   "metadata": {},
   "outputs": [],
   "source": [
    "def reverse_number(int_number):\n",
    "    pass"
   ]
  },
  {
   "cell_type": "markdown",
   "id": "637e3bfd",
   "metadata": {},
   "source": [
    "#### Úspěšní/Neúspěšní studenti"
   ]
  },
  {
   "cell_type": "raw",
   "id": "2533b404",
   "metadata": {},
   "source": [
    "# Napište funkce na následující operace s danám listem výsledků zkoušek\n",
    "student_scores = [90.33, 40.5, 55.44, 70.05, 30.55, 25.45, 80.45, 95.3, 38.7, 40.3]\n",
    "\n",
    "# 1) zaokrouhlit na celé čísla --> output [90, 41, 55...]\n",
    "# 2) vyfiltrujte úspěšné studenty. Úspěšní jsou ti, kteří mají skóre nad 50  --> output [90, 55 ...]\n",
    "# 3) spočítejte kolik studentů nesplnilo zkoušku --> output 5"
   ]
  },
  {
   "cell_type": "markdown",
   "id": "b6d21ec0",
   "metadata": {},
   "source": [
    "#### Scrabble "
   ]
  },
  {
   "cell_type": "raw",
   "id": "5d86f6a9",
   "metadata": {},
   "source": [
    "tabulka hodnot písmen:\n",
    "    Letter                           Value\n",
    "A, E, I, O, U, L, N, R, S, T       1\n",
    "D, G                               2\n",
    "B, C, M, P                         3\n",
    "F, H, V, W, Y                      4\n",
    "K                                  5\n",
    "J, X                               8\n",
    "Q, Z                               10\n",
    "\n",
    "Napište funkci která spočítá hodnotu slova ve Scrabblu:\n",
    "např: \n",
    "\"Python\" -> 14"
   ]
  },
  {
   "cell_type": "code",
   "execution_count": null,
   "id": "5a04b626",
   "metadata": {},
   "outputs": [],
   "source": [
    "def scrabble_value(word):\n",
    "    pass"
   ]
  },
  {
   "cell_type": "markdown",
   "id": "9746d987",
   "metadata": {},
   "source": [
    "## Not so  easy"
   ]
  },
  {
   "cell_type": "markdown",
   "id": "574ca8ef",
   "metadata": {},
   "source": [
    "#### Závorky"
   ]
  },
  {
   "cell_type": "raw",
   "id": "0f7500a6",
   "metadata": {},
   "source": [
    " # napiště fuknci která ověří jestli v textu jsou všechny závorky uzavřené a i ve správném pořadí\n",
    "# typy závorek [] {}, ()\n",
    "\n",
    "Příklad text = \"Kocka neni pes(leda ze by byl[ale to by byl na indexu {i}])\" -> True \n",
    "               \"Kocka neni pes(((leda ze by byl[]ale to by byl na indexu {i}])\" -> False"
   ]
  },
  {
   "cell_type": "code",
   "execution_count": null,
   "id": "7fd09e3d",
   "metadata": {},
   "outputs": [],
   "source": [
    "def matching_brackets"
   ]
  },
  {
   "cell_type": "markdown",
   "id": "58ce756d",
   "metadata": {},
   "source": [
    "#### Is ascending"
   ]
  },
  {
   "cell_type": "raw",
   "id": "0568a3c7",
   "metadata": {},
   "source": [
    "#Určete jestli čísla v listu jsou v vzestupném pořadí\n",
    "example_list_1 = [1,4,8,23,39] --> True\n",
    "example_list_2 = [1,5,2,36,21] --> False\n"
   ]
  },
  {
   "cell_type": "code",
   "execution_count": null,
   "id": "b1f30c26",
   "metadata": {},
   "outputs": [],
   "source": [
    "def is_ascending(list_int_number):\n",
    "    pass"
   ]
  },
  {
   "cell_type": "markdown",
   "id": "5c2181b7",
   "metadata": {},
   "source": [
    "#### Ceasarova šifra"
   ]
  },
  {
   "cell_type": "raw",
   "id": "1da43d1f",
   "metadata": {},
   "source": [
    "# Napiště funcki která enkryptuje zadaný string pomocí Ceasarovi šifry\n",
    "\n",
    "*Princip Caesarovy šifry je založen na tom, že všechna písmena zprávy jsou během šifrování zaměněna za písmeno, které se abecedně nachází o pevně určený počet míst dále (tj. posun je pevně zvolen).* \n",
    "-> v našem případě je posun určený o 3\n",
    "\n",
    "a --> d, b --> e, x-->a, y--–>b\n"
   ]
  },
  {
   "cell_type": "code",
   "execution_count": null,
   "id": "49a9db5f",
   "metadata": {},
   "outputs": [],
   "source": [
    "def encrypt_text(text):\n",
    "    pass"
   ]
  },
  {
   "cell_type": "markdown",
   "id": "60dea90f",
   "metadata": {},
   "source": [
    "#### Add time easy"
   ]
  },
  {
   "cell_type": "code",
   "execution_count": null,
   "id": "4a27dd04",
   "metadata": {},
   "outputs": [],
   "source": [
    "Napište funkci která bere dva vstupní argumenty (datový typ každého -> string). \n",
    "První je zadaný čas ve 24h formátu (HH:MM)\n",
    "Druhý je počet hodin a minut které se mají příčíst (ve formátu HH:MM)\n",
    "Funkce přidá počet hodin a minut k počátečnímu času. Pokud čas je další den, funkce vypíše že to je o XX dní později\n",
    "\n",
    "output–> add_time(\"23:20\", \"3:20\") -> \"02:40 1 day later\"\n",
    "add_time(\"13:20\", \"3:20\") -> \"14:40\""
   ]
  },
  {
   "cell_type": "code",
   "execution_count": null,
   "id": "e23d2416",
   "metadata": {},
   "outputs": [],
   "source": [
    "def add_time(start, add):\n",
    "    pass"
   ]
  },
  {
   "cell_type": "markdown",
   "id": "b8a3b999",
   "metadata": {},
   "source": [
    "## Getting Intense here"
   ]
  },
  {
   "cell_type": "markdown",
   "id": "69491179",
   "metadata": {},
   "source": [
    "#### Den narozeni (s datetime modulem)"
   ]
  },
  {
   "cell_type": "raw",
   "id": "f68647ec",
   "metadata": {},
   "source": [
    "Napiště funkci která při zadání data narození napíše den v týdnu v kterém se člověk narodil\n",
    "\n",
    "format_inputu = DD-MM-YYYY\n",
    "\n",
    "print(day_of_birth(\"27-04-2022\")) # Wednesday"
   ]
  },
  {
   "cell_type": "code",
   "execution_count": null,
   "id": "f4f0ef4e",
   "metadata": {},
   "outputs": [],
   "source": [
    "def day_of_birth(date):\n",
    "    pass"
   ]
  },
  {
   "cell_type": "markdown",
   "id": "0895e1ff",
   "metadata": {},
   "source": [
    "#### Text analyzer"
   ]
  },
  {
   "cell_type": "raw",
   "id": "77d3ffb4",
   "metadata": {},
   "source": [
    "text = \"\"\"Rachel and Joey have their first date. Joey, a specialist in the stuff after the date, tries to lay the groundwork with Rachel, but she keeps slapping his hand away and Joey cannot seem to undo her bra. After talking about it with Monica, Rachel and Joey \"power through\". Completely taken by the excitement of their first time, Rachel, while climbing onto Joey, accidentally sinks her knee into his groin, preventing him from performing. The two stop to reflect on their sexless experience and how this affects their relationship, and when they talk to Chandler about it, they realize that their friendship is too strong for them to take it beyond. The two break up amicably.\"\"\"\n",
    "\n",
    "# napište analyzátor textu který vrátí kolikrát je které slovo v textu + set interpunkčních znamének (.,;\")\n",
    "\n",
    "output --> {\"Rachel\": 3, \"Joey\":5, \"a\":3, \"special_char\":{\",\", \".\", \":\"}}"
   ]
  },
  {
   "cell_type": "code",
   "execution_count": null,
   "id": "10c80716",
   "metadata": {},
   "outputs": [],
   "source": [
    "def text_analyzer(text):\n",
    "    pass\n",
    "    "
   ]
  },
  {
   "cell_type": "markdown",
   "id": "b4b55894",
   "metadata": {},
   "source": [
    "#### Integer na Římské čísla"
   ]
  },
  {
   "cell_type": "code",
   "execution_count": null,
   "id": "35dbbf5a",
   "metadata": {},
   "outputs": [],
   "source": [
    "# Napište funkci která převede int číslo na Římské číslice\n",
    "2022 --> MMXXII"
   ]
  },
  {
   "cell_type": "code",
   "execution_count": null,
   "id": "8fc11673",
   "metadata": {},
   "outputs": [],
   "source": [
    "def int_to_roman(number):\n",
    "    pass"
   ]
  },
  {
   "cell_type": "markdown",
   "id": "5865f443",
   "metadata": {},
   "source": [
    "## I will rather stop with Python..."
   ]
  },
  {
   "cell_type": "markdown",
   "id": "6c2bf146",
   "metadata": {},
   "source": [
    "#### Add_time hardcore"
   ]
  },
  {
   "cell_type": "raw",
   "id": "3eeb6e78",
   "metadata": {},
   "source": [
    "Vytvořte funkci add_time která vyžaduje dva povinné parametry a (jeden volitelný = BONUS)\n",
    "\n",
    "\"11:59 PM\" start time in the 12-hour clock format (ending in AM or PM) = Start čas\n",
    "- \"49:05\" = hodiny a minuty které se mají přidat k počátečnímu času\n",
    "# add_time(\"11:59 PM\", \"24:05\")\n",
    "\n",
    "- BONUS: (optional) a starting day of the week, case insensitive = den v týdnu\n",
    "# add_time(\"11:30 AM\", \"2:32\", \"Monday\")\n",
    "\n",
    "Funkce přidá zadaný čas (druhý argument) k počátečnímu času a vrátí ho jako výsledek.\n",
    "\n",
    "- Pokud výsledek je další den, vytiskne čas a \"další den\" \n",
    "- Pokud je výsledek o x dní později, vytiskne čas a \"o x dní pozdějí\"\n",
    "\n",
    "- BONUS:\n",
    "- Pokud je zadán parametr den v týdnu, ukáže ve výsledku také den v týdnu\n"
   ]
  },
  {
   "cell_type": "code",
   "execution_count": null,
   "id": "e86d7ccc",
   "metadata": {},
   "outputs": [],
   "source": [
    "def add_time(start, add):\n",
    "    pass"
   ]
  }
 ],
 "metadata": {
  "kernelspec": {
   "display_name": "Python 3 (ipykernel)",
   "language": "python",
   "name": "python3"
  },
  "language_info": {
   "codemirror_mode": {
    "name": "ipython",
    "version": 3
   },
   "file_extension": ".py",
   "mimetype": "text/x-python",
   "name": "python",
   "nbconvert_exporter": "python",
   "pygments_lexer": "ipython3",
   "version": "3.8.2"
  }
 },
 "nbformat": 4,
 "nbformat_minor": 5
}
